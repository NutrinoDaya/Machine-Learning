{
 "cells": [
  {
   "cell_type": "code",
   "execution_count": 1,
   "metadata": {},
   "outputs": [],
   "source": [
    "from pandas import read_csv \n",
    "from sklearn.decomposition import PCA "
   ]
  },
  {
   "cell_type": "code",
   "execution_count": 2,
   "metadata": {},
   "outputs": [],
   "source": [
    "path = r\"../diabetes.csv\"\n",
    "headers = ['preg','plas','skin','test','mass','pedi','age','class']\n",
    "dataframe = read_csv(path,names=headers)\n",
    "array = dataframe.values"
   ]
  },
  {
   "cell_type": "code",
   "execution_count": 4,
   "metadata": {},
   "outputs": [],
   "source": [
    "x = array[:,0:7]\n",
    "y = array[:,7]"
   ]
  },
  {
   "cell_type": "code",
   "execution_count": 8,
   "metadata": {},
   "outputs": [
    {
     "name": "stdout",
     "output_type": "stream",
     "text": [
      "Explained Variance [0.88920966 0.06160576 0.02579683]\n",
      "[[ 9.78144887e-02  1.60946026e-02  6.07563839e-02  9.93112618e-01\n",
      "   1.40109775e-02  5.37165782e-04 -3.56146355e-03]\n",
      " [-9.72577113e-01 -1.41640797e-01  5.78480498e-02  9.47106752e-02\n",
      "  -4.69779851e-02 -8.17934090e-04 -1.39669378e-01]\n",
      " [ 1.42390928e-01 -9.22827727e-01 -3.07663260e-01  2.11804346e-02\n",
      "  -1.32685757e-01 -6.44281225e-04 -1.24107184e-01]]\n"
     ]
    }
   ],
   "source": [
    "pca = PCA(n_components=3)\n",
    "fit = pca.fit(x)\n",
    "print(\"Explained Variance %s\" % fit.explained_variance_ratio_)\n",
    "print(fit.components_)"
   ]
  }
 ],
 "metadata": {
  "kernelspec": {
   "display_name": "Python 3",
   "language": "python",
   "name": "python3"
  },
  "language_info": {
   "codemirror_mode": {
    "name": "ipython",
    "version": 3
   },
   "file_extension": ".py",
   "mimetype": "text/x-python",
   "name": "python",
   "nbconvert_exporter": "python",
   "pygments_lexer": "ipython3",
   "version": "3.7.7"
  }
 },
 "nbformat": 4,
 "nbformat_minor": 2
}
