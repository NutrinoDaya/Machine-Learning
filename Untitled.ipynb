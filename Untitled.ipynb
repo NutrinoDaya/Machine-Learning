{
 "cells": [
  {
   "cell_type": "code",
   "execution_count": 5,
   "id": "2ada9a34",
   "metadata": {},
   "outputs": [
    {
     "name": "stdout",
     "output_type": "stream",
     "text": [
      "[0.48695245 0.27592743 0.99804969 0.0725016  0.96487864]\n"
     ]
    }
   ],
   "source": [
    "import numpy as np\n",
    "import matplotlib.pyplot as plt\n",
    "from sklearn.linear_model import LinearRegression\n",
    "\n",
    "# Generate synthetic data\n",
    "np.random.seed(0)\n",
    "house_size = np.random.randint(800, 5000, 100)  # Random house sizes between 800 and 5000 sq. ft.\n",
    "house_price = 50 * house_size + np.random.normal(0, 20000, 100)  # Linear relationship with noise\n",
    "\n",
    "# Create and fit a linear regression model\n",
    "model = LinearRegression()\n",
    "model.fit(house_size.reshape(-1, 1), house_price)\n",
    "\n",
    "# Make predictions\n",
    "X_test = np.array([[1000], [2500], [3500]])  # New house sizes to make predictions on\n",
    "y_pred = model.predict(X_test)\n",
    "\n",
    "# Plot the original data and the regression line\n",
    "plt.scatter(house_size, house_price, color='blue', label='Original Data')\n",
    "plt.plot(X_test, y_pred, color='red', linewidth=2, label='Regression Line')\n",
    "plt.xlabel('House Size (sq. ft)')\n",
    "plt.ylabel('House Price ($)')\n",
    "plt.legend()\n",
    "plt.show()\n"
   ]
  },
  {
   "cell_type": "code",
   "execution_count": null,
   "id": "1300323f",
   "metadata": {},
   "outputs": [],
   "source": []
  }
 ],
 "metadata": {
  "kernelspec": {
   "display_name": "Python 3 (ipykernel)",
   "language": "python",
   "name": "python3"
  },
  "language_info": {
   "codemirror_mode": {
    "name": "ipython",
    "version": 3
   },
   "file_extension": ".py",
   "mimetype": "text/x-python",
   "name": "python",
   "nbconvert_exporter": "python",
   "pygments_lexer": "ipython3",
   "version": "3.11.5"
  }
 },
 "nbformat": 4,
 "nbformat_minor": 5
}
