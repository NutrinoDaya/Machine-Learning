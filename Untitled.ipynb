{
 "cells": [
  {
   "cell_type": "code",
   "execution_count": 25,
   "id": "8eefea2c",
   "metadata": {},
   "outputs": [],
   "source": [
    "import csv \n",
    "import numpy as np \n",
    "from numpy import loadtxt "
   ]
  },
  {
   "cell_type": "code",
   "execution_count": 59,
   "id": "4d7263b0",
   "metadata": {},
   "outputs": [
    {
     "name": "stdout",
     "output_type": "stream",
     "text": [
      "(10, 3)\n",
      "['Position', 'Level', 'Salary']\n",
      "[['Business Analyst' '1' '45000']\n",
      " ['Junior Consultant' '2' '50000']\n",
      " ['Senior Consultant' '3' '60000']\n",
      " ['Manager' '4' '80000']\n",
      " ['Country Manager' '5' '110000']\n",
      " ['Region Manager' '6' '150000']\n",
      " ['Partner' '7' '200000']\n",
      " ['Senior Partner' '8' '300000']\n",
      " ['C-level' '9' '500000']\n",
      " ['CEO' '10' '1000000']]\n"
     ]
    }
   ],
   "source": [
    "path = r\"Position_Salaries.csv\"\n",
    "with open(path,'r') as f : \n",
    "    reader = csv.reader(f,delimiter=',')\n",
    "    headers = next(reader)\n",
    "    data = list(reader)\n",
    "    data = np.array(data)\n",
    "    print(data.shape)\n",
    "    print(headers)\n",
    "    print(data)\n"
   ]
  },
  {
   "cell_type": "code",
   "execution_count": 60,
   "id": "7303753b",
   "metadata": {},
   "outputs": [
    {
     "name": "stdout",
     "output_type": "stream",
     "text": [
      "(10, 3)\n",
      "0      45000\n",
      "1      50000\n",
      "2      60000\n",
      "3      80000\n",
      "4     110000\n",
      "5     150000\n",
      "6     200000\n",
      "7     300000\n",
      "8     500000\n",
      "9    1000000\n",
      "Name: Salary, dtype: int64\n",
      "            Position  Level  Salary\n",
      "0   Business Analyst      1   45000\n",
      "1  Junior Consultant      2   50000\n",
      "2  Senior Consultant      3   60000\n",
      "3            Manager      4   80000\n",
      "4    Country Manager      5  110000\n"
     ]
    }
   ],
   "source": [
    "from pandas import read_csv \n",
    "path = r\"Position_Salaries.csv\"\n",
    "data = read_csv(path)\n",
    "print(data.shape)\n",
    "# print(data)\n",
    "first_column_data = data.iloc[:, 2]\n",
    "print(first_column_data)\n"
   ]
  },
  {
   "cell_type": "code",
   "execution_count": 51,
   "id": "b10bdad0",
   "metadata": {},
   "outputs": [],
   "source": [
    "from pandas import read_csv \n",
    "path = r\"Position_Salaries.csv\""
   ]
  },
  {
   "cell_type": "code",
   "execution_count": null,
   "id": "5d0354a4",
   "metadata": {},
   "outputs": [],
   "source": [
    "headernames = ['preg','plas','pres','skin','test','mass','pedi','age','class']\n",
    "data = read_csv(path,names=headernames)\n",
    "print(data.shape)\n",
    "print(data)\n"
   ]
  }
 ],
 "metadata": {
  "kernelspec": {
   "display_name": "Python 3 (ipykernel)",
   "language": "python",
   "name": "python3"
  },
  "language_info": {
   "codemirror_mode": {
    "name": "ipython",
    "version": 3
   },
   "file_extension": ".py",
   "mimetype": "text/x-python",
   "name": "python",
   "nbconvert_exporter": "python",
   "pygments_lexer": "ipython3",
   "version": "3.7.7"
  }
 },
 "nbformat": 4,
 "nbformat_minor": 5
}
