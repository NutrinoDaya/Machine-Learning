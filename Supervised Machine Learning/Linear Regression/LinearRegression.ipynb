{
 "cells": [
  {
   "cell_type": "code",
   "execution_count": 22,
   "metadata": {},
   "outputs": [
    {
     "name": "stdout",
     "output_type": "stream",
     "text": [
      "Predicted value: [15.0, 21.0, 24.0]\n"
     ]
    }
   ],
   "source": [
    "class LinearRegression:\n",
    "    def __init__(self):\n",
    "        #coefficient \n",
    "        self.coefficient = 0\n",
    "        #intercept \n",
    "        self.intercept = 0\n",
    "\n",
    "    def fit(self, X, y):\n",
    "        # Calculate the mean of X and y\n",
    "        mean_x = sum(X) / len(X)\n",
    "        mean_y = sum(y) / len(y)\n",
    "        # Calculate the coefficients (slope)\n",
    "        # for each test example x[i]  in X , y[i] in Y we decrement x from the mean_x and multiply the result with (y[i] - mean_y)\n",
    "        #then we add the results of each phase to get the numerator \n",
    "        numerator = sum((X[i] - mean_x) * (y[i] - mean_y) for i in range(len(X)))\n",
    "        #for each test example x[i] we decrement x from mean_x and the raise the power to 2 \n",
    "        #then we add the result of each phase to get the denominator\n",
    "        denominator = sum((X[i] - mean_x) ** 2 for i in range(len(X)))\n",
    "        # coefficient equals the numerator devided by the denominator \n",
    "        self.coefficient = numerator / denominator\n",
    "        # intercept equals mean_y minus the coefficient multiplied by mean_x       \n",
    "        self.intercept = mean_y - self.coefficient * mean_x\n",
    "\n",
    "    def predict(self, X):\n",
    "        #plug the value of x in the equation to get the result \n",
    "        return [self.coefficient * x + self.intercept for x in X]\n",
    "\n",
    "# Sample data\n",
    "X = [1, 2 ,3,4]\n",
    "y = [3, 6,9,12]\n",
    "\n",
    "# Create a LinearRegression model\n",
    "model = LinearRegression()\n",
    "\n",
    "# Fit the model to the data\n",
    "model.fit(X, y)\n",
    "\n",
    "# Make predictions\n",
    "X_new = [5,7,8]\n",
    "y_pred = model.predict(X_new)\n",
    "\n",
    "print(\"Predicted value:\", y_pred)\n"
   ]
  }
 ],
 "metadata": {
  "kernelspec": {
   "display_name": "base",
   "language": "python",
   "name": "python3"
  },
  "language_info": {
   "codemirror_mode": {
    "name": "ipython",
    "version": 3
   },
   "file_extension": ".py",
   "mimetype": "text/x-python",
   "name": "python",
   "nbconvert_exporter": "python",
   "pygments_lexer": "ipython3",
   "version": "3.11.5"
  }
 },
 "nbformat": 4,
 "nbformat_minor": 2
}
