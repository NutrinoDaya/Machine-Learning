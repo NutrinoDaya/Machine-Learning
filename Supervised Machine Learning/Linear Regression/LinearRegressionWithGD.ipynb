{
 "cells": [
  {
   "cell_type": "code",
   "execution_count": 22,
   "metadata": {},
   "outputs": [
    {
     "name": "stdout",
     "output_type": "stream",
     "text": [
      "Predicted values: [[ 9.99894728]\n",
      " [11.99843622]]\n"
     ]
    }
   ],
   "source": [
    "import numpy as np\n",
    "\n",
    "class LinearRegressionWithGD:\n",
    "    def __init__(self, learning_rate=0.04, num_iterations=1000):\n",
    "        # setting the learning rate and number of iterations and theta if they are sent\n",
    "        self.learning_rate = learning_rate\n",
    "        self.num_iterations = num_iterations\n",
    "        self.theta = None\n",
    "\n",
    "    def fit(self, X, y):\n",
    "        # getting the number of samples and the number of features\n",
    "        # number of samples  : : m\n",
    "        #number of features :: j\n",
    "        num_samples, num_features = X.shape\n",
    "        self.theta = np.zeros((num_features, 1))  # Initialize coefficients to zeros\n",
    "\n",
    "        for _ in range(self.num_iterations):\n",
    "            # Calculate predictions\n",
    "            # perform matrix multiplication between X and theta \n",
    "            predictions = X.dot(self.theta)\n",
    "\n",
    "            # Calculate the error\n",
    "            error = predictions - y\n",
    "\n",
    "            # Compute the gradients\n",
    "            # gradient  :: J(w,b)\n",
    "            # switch the rows and columns with the T (Transpose) of the matrix features\n",
    "            gradient = X.T.dot(error) / num_samples\n",
    "\n",
    "            # Update the parameters\n",
    "            self.theta -= self.learning_rate * gradient\n",
    "\n",
    "    def predict(self, X):\n",
    "        return X.dot(self.theta)\n",
    "\n",
    "# Sample data\n",
    "X = np.array([[1, 1], [1, 2], [1, 3], [1, 4]])\n",
    "y = np.array([[2], [4], [6], [8]])\n",
    "\n",
    "# Create a LinearRegressionWithGD model\n",
    "model = LinearRegressionWithGD()\n",
    "\n",
    "# Fit the model to the data\n",
    "model.fit(X, y)\n",
    "\n",
    "# Make predictions\n",
    "X_new = np.array([[1, 5], [1, 6]])\n",
    "y_pred = model.predict(X_new)\n",
    "\n",
    "print(\"Predicted values:\", y_pred)\n"
   ]
  }
 ],
 "metadata": {
  "kernelspec": {
   "display_name": "base",
   "language": "python",
   "name": "python3"
  },
  "language_info": {
   "codemirror_mode": {
    "name": "ipython",
    "version": 3
   },
   "file_extension": ".py",
   "mimetype": "text/x-python",
   "name": "python",
   "nbconvert_exporter": "python",
   "pygments_lexer": "ipython3",
   "version": "3.11.5"
  }
 },
 "nbformat": 4,
 "nbformat_minor": 2
}
