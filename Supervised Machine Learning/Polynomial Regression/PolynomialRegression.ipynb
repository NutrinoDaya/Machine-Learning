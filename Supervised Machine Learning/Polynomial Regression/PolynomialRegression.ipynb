{
 "cells": [
  {
   "cell_type": "code",
   "execution_count": 3,
   "metadata": {},
   "outputs": [
    {
     "name": "stdout",
     "output_type": "stream",
     "text": [
      "Predicted values: [ 99.38188534 118.72158271 139.77877682 162.55346769 187.04565531]\n"
     ]
    }
   ],
   "source": [
    "import numpy as np\n",
    "\n",
    "class PolynomialRegression:\n",
    "    def __init__(self, degree=2, learning_rate=0.001, n_iterations=1000, alpha=0.01):\n",
    "        self.degree = degree\n",
    "        self.learning_rate = learning_rate\n",
    "        self.n_iterations = n_iterations\n",
    "        self.alpha = alpha  # Regularization strength\n",
    "\n",
    "    def fit(self, X, y):\n",
    "        # Add polynomial features to the input data\n",
    "        X_poly = self._add_polynomial_features(X, self.degree)\n",
    "\n",
    "        # Initialize coefficients\n",
    "        self.coefficients = np.random.rand(X_poly.shape[1])\n",
    "\n",
    "        # Gradient Descent with L2 regularization\n",
    "        for _ in range(self.n_iterations):\n",
    "            predictions = X_poly.dot(self.coefficients)\n",
    "            errors = predictions - y\n",
    "            gradient = (X_poly.T.dot(errors) + self.alpha * self.coefficients) / X_poly.shape[0]\n",
    "            self.coefficients -= self.learning_rate * gradient\n",
    "\n",
    "    def predict(self, X):\n",
    "        X_poly = self._add_polynomial_features(X, self.degree)\n",
    "        return X_poly.dot(self.coefficients)\n",
    "\n",
    "    def _add_polynomial_features(self, X, degree):\n",
    "        X_poly = X\n",
    "        for d in range(2, degree + 1):\n",
    "            X_poly = np.column_stack((X_poly, X**d))\n",
    "        return X_poly\n",
    "\n",
    "# Sample data\n",
    "X = np.array([1, 2, 3, 4, 5, 6, 7, 8, 9, 10])\n",
    "y = np.array([2, 4, 8, 12, 18, 28, 38, 50, 68, 82])\n",
    "\n",
    "# Create a PolynomialRegression model\n",
    "poly_reg = PolynomialRegression(degree=2, learning_rate=0.0001, n_iterations=10000, alpha=0.01)\n",
    "\n",
    "# Fit the model to the data\n",
    "poly_reg.fit(X, y)\n",
    "\n",
    "# Make predictions\n",
    "X_new = np.array([11, 12, 13, 14, 15])\n",
    "y_pred = poly_reg.predict(X_new)\n",
    "print(\"Predicted values:\", y_pred)\n"
   ]
  }
 ],
 "metadata": {
  "kernelspec": {
   "display_name": "base",
   "language": "python",
   "name": "python3"
  },
  "language_info": {
   "codemirror_mode": {
    "name": "ipython",
    "version": 3
   },
   "file_extension": ".py",
   "mimetype": "text/x-python",
   "name": "python",
   "nbconvert_exporter": "python",
   "pygments_lexer": "ipython3",
   "version": "3.11.5"
  }
 },
 "nbformat": 4,
 "nbformat_minor": 2
}
