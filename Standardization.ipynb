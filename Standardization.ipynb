{
 "cells": [
  {
   "cell_type": "code",
   "execution_count": 1,
   "metadata": {},
   "outputs": [],
   "source": [
    "from sklearn.preprocessing import StandardScaler \n",
    "from pandas import read_csv \n",
    "from numpy import set_printoptions \n"
   ]
  },
  {
   "cell_type": "code",
   "execution_count": 7,
   "metadata": {},
   "outputs": [
    {
     "name": "stdout",
     "output_type": "stream",
     "text": [
      "\n",
      " First Array  : \n",
      " [[148.    72.    35.   ...   0.63  50.     1.  ]\n",
      " [ 85.    66.    29.   ...   0.35  31.     0.  ]\n",
      " [183.    64.     0.   ...   0.67  32.     1.  ]\n",
      " ...\n",
      " [121.    72.    23.   ...   0.24  30.     0.  ]\n",
      " [126.    60.     0.   ...   0.35  47.     1.  ]\n",
      " [ 93.    70.    31.   ...   0.32  23.     0.  ]]\n"
     ]
    }
   ],
   "source": [
    "path = r\"diabetes.csv\"\n",
    "headers = ['preg','plas','skin','test','mass','pedi','age','class']\n",
    "dataframe = read_csv(path,names=headers)\n",
    "array = dataframe.values\n",
    "print(\"\\n First Array  : \\n\" , array)"
   ]
  },
  {
   "cell_type": "code",
   "execution_count": 8,
   "metadata": {},
   "outputs": [],
   "source": [
    "data_scaler  = StandardScaler().fit(array)\n",
    "data_rescaled = data_scaler.transform(array)"
   ]
  },
  {
   "cell_type": "code",
   "execution_count": 9,
   "metadata": {},
   "outputs": [
    {
     "name": "stdout",
     "output_type": "stream",
     "text": [
      "\n",
      " Rescaled Data : \n",
      "  [[ 0.85  0.15  0.91 -0.69  0.2   0.47  1.43  1.37]\n",
      " [-1.12 -0.16  0.53 -0.69 -0.68 -0.37 -0.19 -0.73]\n",
      " [ 1.94 -0.26 -1.29 -0.69 -1.1   0.6  -0.11  1.37]\n",
      " [-1.   -0.16  0.15  0.12 -0.49 -0.92 -1.04 -0.73]\n",
      " [ 0.5  -1.5   0.91  0.77  1.41  5.48 -0.02  1.37]]\n"
     ]
    }
   ],
   "source": [
    "set_printoptions(precision=2)\n",
    "print(\"\\n Rescaled Data : \\n \", data_rescaled[0:5])"
   ]
  },
  {
   "cell_type": "code",
   "execution_count": null,
   "metadata": {},
   "outputs": [],
   "source": []
  }
 ],
 "metadata": {
  "kernelspec": {
   "display_name": "Python 3",
   "language": "python",
   "name": "python3"
  },
  "language_info": {
   "codemirror_mode": {
    "name": "ipython",
    "version": 3
   },
   "file_extension": ".py",
   "mimetype": "text/x-python",
   "name": "python",
   "nbconvert_exporter": "python",
   "pygments_lexer": "ipython3",
   "version": "3.7.7"
  }
 },
 "nbformat": 4,
 "nbformat_minor": 2
}
