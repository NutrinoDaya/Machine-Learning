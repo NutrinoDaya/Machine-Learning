{
 "cells": [
  {
   "cell_type": "code",
   "execution_count": 25,
   "id": "8eefea2c",
   "metadata": {},
   "outputs": [],
   "source": [
    "import csv \n",
    "import numpy as np \n",
    "from numpy import loadtxt "
   ]
  },
  {
   "cell_type": "code",
   "execution_count": 59,
   "id": "4d7263b0",
   "metadata": {},
   "outputs": [
    {
     "name": "stdout",
     "output_type": "stream",
     "text": [
      "(10, 3)\n",
      "['Position', 'Level', 'Salary']\n",
      "[['Business Analyst' '1' '45000']\n",
      " ['Junior Consultant' '2' '50000']\n",
      " ['Senior Consultant' '3' '60000']\n",
      " ['Manager' '4' '80000']\n",
      " ['Country Manager' '5' '110000']\n",
      " ['Region Manager' '6' '150000']\n",
      " ['Partner' '7' '200000']\n",
      " ['Senior Partner' '8' '300000']\n",
      " ['C-level' '9' '500000']\n",
      " ['CEO' '10' '1000000']]\n"
     ]
    }
   ],
   "source": [
    "path = r\"Position_Salaries.csv\"\n",
    "with open(path,'r') as f : \n",
    "    reader = csv.reader(f,delimiter=',')\n",
    "    headers = next(reader)\n",
    "    data = list(reader)\n",
    "    data = np.array(data)\n",
    "    print(data.shape)\n",
    "    print(headers)\n",
    "    print(data)\n"
   ]
  },
  {
   "cell_type": "code",
   "execution_count": 72,
   "id": "7303753b",
   "metadata": {},
   "outputs": [
    {
     "name": "stdout",
     "output_type": "stream",
     "text": [
      "(10, 3)\n",
      "[['Business Analyst' 1 45000]\n",
      " ['Junior Consultant' 2 50000]\n",
      " ['Senior Consultant' 3 60000]\n",
      " ['Manager' 4 80000]\n",
      " ['Country Manager' 5 110000]\n",
      " ['Region Manager' 6 150000]\n",
      " ['Partner' 7 200000]\n",
      " ['Senior Partner' 8 300000]\n",
      " ['C-level' 9 500000]\n",
      " ['CEO' 10 1000000]]\n"
     ]
    }
   ],
   "source": [
    "from pandas import read_csv \n",
    "path = r\"Position_Salaries.csv\"\n",
    "data = read_csv(path)\n",
    "print(data.shape)\n",
    "# print(data)\n",
    "first_column_data = data.iloc[:, 2]\n",
    "# print(first_column_data)\n",
    "# print(data.dtypes)\n",
    "# print(data.describe())\n",
    "count_salary = data.groupby('Salary').size()\n",
    "# print(count_salary)\n",
    "print(data.values)"
   ]
  },
  {
   "cell_type": "code",
   "execution_count": 51,
   "id": "b10bdad0",
   "metadata": {},
   "outputs": [],
   "source": [
    "from pandas import read_csv \n",
    "path = r\"Position_Salaries.csv\""
   ]
  },
  {
   "cell_type": "code",
   "execution_count": 73,
   "id": "5d0354a4",
   "metadata": {},
   "outputs": [
    {
     "name": "stdout",
     "output_type": "stream",
     "text": [
      "(11, 9)\n",
      "                 preg   plas     pres  skin  test  mass  pedi  age  class\n",
      "0            Position  Level   Salary   NaN   NaN   NaN   NaN  NaN    NaN\n",
      "1    Business Analyst      1    45000   NaN   NaN   NaN   NaN  NaN    NaN\n",
      "2   Junior Consultant      2    50000   NaN   NaN   NaN   NaN  NaN    NaN\n",
      "3   Senior Consultant      3    60000   NaN   NaN   NaN   NaN  NaN    NaN\n",
      "4             Manager      4    80000   NaN   NaN   NaN   NaN  NaN    NaN\n",
      "5     Country Manager      5   110000   NaN   NaN   NaN   NaN  NaN    NaN\n",
      "6      Region Manager      6   150000   NaN   NaN   NaN   NaN  NaN    NaN\n",
      "7             Partner      7   200000   NaN   NaN   NaN   NaN  NaN    NaN\n",
      "8      Senior Partner      8   300000   NaN   NaN   NaN   NaN  NaN    NaN\n",
      "9             C-level      9   500000   NaN   NaN   NaN   NaN  NaN    NaN\n",
      "10                CEO     10  1000000   NaN   NaN   NaN   NaN  NaN    NaN\n"
     ]
    }
   ],
   "source": [
    "headernames = ['preg','plas','pres','skin','test','mass','pedi','age','class']\n",
    "data = read_csv(path,names=headernames)\n",
    "print(data.shape)\n",
    "print(data)\n"
   ]
  },
  {
   "cell_type": "code",
   "execution_count": 83,
   "id": "8f4b3b0e",
   "metadata": {},
   "outputs": [],
   "source": [
    "from pandas import read_csv \n",
    "from numpy import set_printoptions \n",
    "from sklearn.preprocessing import MinMaxScaler  \n",
    "\n",
    "path = r\"Salaries.csv\""
   ]
  },
  {
   "cell_type": "code",
   "execution_count": 84,
   "id": "8281a8f1",
   "metadata": {},
   "outputs": [],
   "source": [
    "data = read_csv(path)\n",
    "array = data.values "
   ]
  },
  {
   "cell_type": "code",
   "execution_count": 85,
   "id": "35292703",
   "metadata": {},
   "outputs": [],
   "source": [
    "data_scaler = MinMaxScaler(feature_range=(0,1))\n",
    "data_rescaled = data_scaler.fit_transform(data)"
   ]
  },
  {
   "cell_type": "code",
   "execution_count": 88,
   "id": "6230780e",
   "metadata": {},
   "outputs": [
    {
     "name": "stdout",
     "output_type": "stream",
     "text": [
      "\n",
      " Scaled Data: \n",
      "  [[0. ]\n",
      " [0. ]\n",
      " [0. ]\n",
      " [0. ]\n",
      " [0.1]\n",
      " [0.1]\n",
      " [0.2]\n",
      " [0.3]\n",
      " [0.5]\n",
      " [1. ]]\n"
     ]
    }
   ],
   "source": [
    "set_printoptions(precision=1)\n",
    "print(\"\\n Scaled Data: \\n \" , data_rescaled)\n"
   ]
  },
  {
   "cell_type": "code",
   "execution_count": null,
   "id": "bcb223e4",
   "metadata": {},
   "outputs": [],
   "source": []
  },
  {
   "cell_type": "code",
   "execution_count": null,
   "id": "54795705",
   "metadata": {},
   "outputs": [],
   "source": []
  }
 ],
 "metadata": {
  "kernelspec": {
   "display_name": "Python 3 (ipykernel)",
   "language": "python",
   "name": "python3"
  },
  "language_info": {
   "codemirror_mode": {
    "name": "ipython",
    "version": 3
   },
   "file_extension": ".py",
   "mimetype": "text/x-python",
   "name": "python",
   "nbconvert_exporter": "python",
   "pygments_lexer": "ipython3",
   "version": "3.7.7"
  }
 },
 "nbformat": 4,
 "nbformat_minor": 5
}
