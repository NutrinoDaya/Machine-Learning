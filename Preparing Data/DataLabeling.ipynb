{
 "cells": [
  {
   "cell_type": "code",
   "execution_count": 1,
   "metadata": {},
   "outputs": [],
   "source": [
    "import numpy as np \n",
    "from sklearn.preprocessing import LabelEncoder"
   ]
  },
  {
   "cell_type": "code",
   "execution_count": 2,
   "metadata": {},
   "outputs": [],
   "source": [
    "input_labels = ['red','black','red','green','black','yellow','white']"
   ]
  },
  {
   "cell_type": "code",
   "execution_count": 3,
   "metadata": {},
   "outputs": [
    {
     "data": {
      "text/plain": [
       "LabelEncoder()"
      ]
     },
     "execution_count": 3,
     "metadata": {},
     "output_type": "execute_result"
    }
   ],
   "source": [
    "encoder  = LabelEncoder()\n",
    "encoder.fit(input_labels)"
   ]
  },
  {
   "cell_type": "code",
   "execution_count": 4,
   "metadata": {},
   "outputs": [
    {
     "name": "stdout",
     "output_type": "stream",
     "text": [
      "\n",
      " Labels =  ['green', 'red', 'black']\n",
      "Encoded Values  =  [1, 2, 0]\n"
     ]
    }
   ],
   "source": [
    "test_labels = ['green','red','black']\n",
    "encoded_vlaues = encoder.transform(test_labels)\n",
    "print(\"\\n Labels = \" , test_labels)\n",
    "print(\"Encoded Values  = \", list(encoded_vlaues))\n",
    "encoded_vlaues = [3,0,4,1]\n",
    "decode_list = encoder.inverse_transform(encoded_vlaues)"
   ]
  },
  {
   "cell_type": "code",
   "execution_count": 5,
   "metadata": {},
   "outputs": [
    {
     "name": "stdout",
     "output_type": "stream",
     "text": [
      "\n",
      " Encoded Values =  [3, 0, 4, 1]\n",
      "\n",
      " Decoded Values =   ['white', 'black', 'yellow', 'green']\n"
     ]
    }
   ],
   "source": [
    "print(\"\\n Encoded Values = \" , encoded_vlaues)\n",
    "print(\"\\n Decoded Values =  \" , list(decode_list))"
   ]
  },
  {
   "cell_type": "code",
   "execution_count": null,
   "metadata": {},
   "outputs": [],
   "source": []
  }
 ],
 "metadata": {
  "kernelspec": {
   "display_name": "Python 3",
   "language": "python",
   "name": "python3"
  },
  "language_info": {
   "codemirror_mode": {
    "name": "ipython",
    "version": 3
   },
   "file_extension": ".py",
   "mimetype": "text/x-python",
   "name": "python",
   "nbconvert_exporter": "python",
   "pygments_lexer": "ipython3",
   "version": "3.7.7"
  }
 },
 "nbformat": 4,
 "nbformat_minor": 2
}
